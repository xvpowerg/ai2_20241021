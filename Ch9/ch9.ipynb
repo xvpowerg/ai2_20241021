{
 "cells": [
  {
   "cell_type": "markdown",
   "metadata": {
    "vscode": {
     "languageId": "bat"
    }
   },
   "source": [
    "### 練習1：代數展開\n",
    "公式：\n",
    "$[ (x + y)^3 ]$"
   ]
  },
  {
   "cell_type": "code",
   "execution_count": 7,
   "metadata": {},
   "outputs": [
    {
     "name": "stdout",
     "output_type": "stream",
     "text": [
      "x**3 + 3*x**2*y + 3*x*y**2 + y**3\n",
      "x^{3} + 3 x^{2} y + 3 x y^{2} + y^{3}\n"
     ]
    },
    {
     "data": {
      "text/latex": [
       "$\\displaystyle (x + y) ^3$"
      ],
      "text/plain": [
       "<IPython.core.display.Math object>"
      ]
     },
     "metadata": {},
     "output_type": "display_data"
    },
    {
     "data": {
      "text/latex": [
       "$\\displaystyle x^{3} + 3 x^{2} y + 3 x y^{2} + y^{3}$"
      ],
      "text/plain": [
       "<IPython.core.display.Math object>"
      ]
     },
     "metadata": {},
     "output_type": "display_data"
    }
   ],
   "source": [
    "import sympy as sp\n",
    "from IPython.display import display, Math\n",
    "x,y = sp.symbols('x y')\n",
    "expr1 = (x +y) ** 3\n",
    "extend_expr1 = sp.expand(expr1)\n",
    "print(extend_expr1)\n",
    "print(sp.latex(extend_expr1) )\n",
    "display(Math(rf\"({x} + {y}) ^3\"))\n",
    "display(Math(sp.latex(extend_expr1)) )"
   ]
  },
  {
   "cell_type": "markdown",
   "metadata": {},
   "source": [
    "### 練習2：因式分解\n",
    "公式：\n",
    "$[ x^3 + 3x^2 + 3x + 1 ]$"
   ]
  },
  {
   "cell_type": "code",
   "execution_count": 10,
   "metadata": {},
   "outputs": [
    {
     "name": "stdout",
     "output_type": "stream",
     "text": [
      "(x + 1)**3\n"
     ]
    },
    {
     "data": {
      "text/latex": [
       "$\\displaystyle x^{3} + 3 x^{2} + 3 x + 1$"
      ],
      "text/plain": [
       "<IPython.core.display.Math object>"
      ]
     },
     "metadata": {},
     "output_type": "display_data"
    },
    {
     "data": {
      "text/latex": [
       "$\\displaystyle \\left(x + 1\\right)^{3}$"
      ],
      "text/plain": [
       "<IPython.core.display.Math object>"
      ]
     },
     "metadata": {},
     "output_type": "display_data"
    }
   ],
   "source": [
    "x = sp.symbols('x')\n",
    "expr2 = x**3 + 3 * x ** 2 + 3 *x + 1\n",
    "f_expr2 = sp.factor(expr2)\n",
    "print(f_expr2)\n",
    "display(Math(rf\"{sp.latex(expr2)}\"))\n",
    "display(Math(rf\"{sp.latex(f_expr2)}\"))"
   ]
  },
  {
   "cell_type": "markdown",
   "metadata": {},
   "source": [
    "### 練習3：代數簡化\n",
    "公式：\n",
    "$[ \\frac{x^2 - y^2}{x - y} ]$"
   ]
  },
  {
   "cell_type": "code",
   "execution_count": 19,
   "metadata": {},
   "outputs": [
    {
     "data": {
      "text/latex": [
       "$\\displaystyle  (x^2 - y^2)  / (x - y)$"
      ],
      "text/plain": [
       "<IPython.core.display.Math object>"
      ]
     },
     "metadata": {},
     "output_type": "display_data"
    },
    {
     "data": {
      "text/latex": [
       "$\\displaystyle \\frac{ x^2 - y^2 }{ x - y }$"
      ],
      "text/plain": [
       "<IPython.core.display.Math object>"
      ]
     },
     "metadata": {},
     "output_type": "display_data"
    },
    {
     "data": {
      "text/latex": [
       "$\\displaystyle x + y$"
      ],
      "text/plain": [
       "<IPython.core.display.Math object>"
      ]
     },
     "metadata": {},
     "output_type": "display_data"
    }
   ],
   "source": [
    "x,y = sp.symbols(\"x y\")\n",
    "expr3 = (x ** 2 - y ** 2) / (x - y)\n",
    "simp_expr3 = sp.simplify(expr3)\n",
    "display(Math(rf\" ({x}^2 - {y}^2)  / ({x} - {y})\"  ))\n",
    "display(Math(rf'\\frac{{ {x}^2 - {y}^2 }}{{ {x} - {y} }}'))\n",
    "display(Math(rf\"{sp.latex(simp_expr3)}\"))"
   ]
  },
  {
   "cell_type": "markdown",
   "metadata": {},
   "source": [
    "### 練習4：符號代入\n",
    "公式：\n",
    "$[ x^2 + y^2 ]$\n",
    "並代入 $( x = 1 )$ 和 $( y = 2 )$"
   ]
  },
  {
   "cell_type": "code",
   "execution_count": 20,
   "metadata": {},
   "outputs": [
    {
     "data": {
      "text/latex": [
       "$\\displaystyle  x^2 + y^2 $"
      ],
      "text/plain": [
       "<IPython.core.display.Math object>"
      ]
     },
     "metadata": {},
     "output_type": "display_data"
    },
    {
     "data": {
      "text/latex": [
       "$\\displaystyle  5$"
      ],
      "text/plain": [
       "<IPython.core.display.Math object>"
      ]
     },
     "metadata": {},
     "output_type": "display_data"
    }
   ],
   "source": [
    "x,y = sp.symbols(\"x y\")\n",
    "expr4 = x ** 2 + y ** 2\n",
    "sub_expr4 = expr4.subs(x,1).subs(y,2)\n",
    "display(Math(rf\" {x}^2 + {y}^2 \"))\n",
    "display(Math(rf\" {sub_expr4}\"))\n"
   ]
  },
  {
   "cell_type": "markdown",
   "metadata": {},
   "source": [
    "### 練習5：求根\n",
    "公式：\n",
    "$[ x^2 - 4 = 0 ]$"
   ]
  },
  {
   "cell_type": "code",
   "execution_count": 21,
   "metadata": {},
   "outputs": [
    {
     "name": "stdout",
     "output_type": "stream",
     "text": [
      "[-2, 2]\n"
     ]
    }
   ],
   "source": [
    "x = sp.symbols('x')\n",
    "expr5 = x ** 2 - 4\n",
    "sqrt_expr5 = sp.solve(expr5)\n",
    "print(sqrt_expr5)"
   ]
  },
  {
   "cell_type": "markdown",
   "metadata": {},
   "source": [
    "\n",
    "### 練習2：二元線性方程組\n",
    "#### 公式\n",
    "1. \\( 2x - 3y = 1 \\)\n",
    "2. \\( x + y = 2 \\)"
   ]
  },
  {
   "cell_type": "code",
   "execution_count": 27,
   "metadata": {},
   "outputs": [
    {
     "data": {
      "text/latex": [
       "$\\displaystyle 2 x - 3 y = 1$"
      ],
      "text/plain": [
       "Eq(2*x - 3*y, 1)"
      ]
     },
     "metadata": {},
     "output_type": "display_data"
    },
    {
     "data": {
      "text/latex": [
       "$\\displaystyle x + y = 2$"
      ],
      "text/plain": [
       "Eq(x + y, 2)"
      ]
     },
     "metadata": {},
     "output_type": "display_data"
    },
    {
     "data": {
      "text/latex": [
       "$\\displaystyle x=7/5  \\quad y = 3/5$"
      ],
      "text/plain": [
       "<IPython.core.display.Math object>"
      ]
     },
     "metadata": {},
     "output_type": "display_data"
    }
   ],
   "source": [
    "x,y = sp.symbols('x y')\n",
    "eq2_1 = sp.Eq(2*x - 3*y,1)\n",
    "eq2_2 = sp.Eq(x +y,2)\n",
    "solut1 =  sp.solve((eq2_1,eq2_2),(x,y))\n",
    "display(eq2_1)\n",
    "display(eq2_2)\n",
    "display(Math(rf\"x={solut1[x]}  \\quad y = {solut1[y]}\"))"
   ]
  },
  {
   "cell_type": "markdown",
   "metadata": {},
   "source": [
    "## 微分\n",
    "\n",
    "- $ f(x) = \\text{常數} \\implies f'(x) = 0 $\n",
    "\n",
    "- 次方：$ f(x) = x^n \\implies f'(x) = nx^{n-1} $\n",
    "\n",
    "- 函數：$ f(x) = Cg(x) \\implies f'(x) = Cg'(x) $\n",
    "\n",
    "- 兩個函數：$ f(x) = g(x) + h(x) \\implies f'(x) = g'(x) + h'(x) $\n",
    "\n",
    "- 乘積：\n",
    "  $ \\frac{d}{dx}[f(x)g(x)] = f'(x)g(x) + f(x)g'(x) $\n",
    "\n",
    "- 商：\n",
    "  $ r(x) = \\frac{s(x)}{t(x)} \\implies r'(x) = \\frac{s'(x)t(x) - s(x)t'(x)}{[t(x)]^2} $\n",
    "\n",
    "- 連鎖律(Chain Rule)：\n",
    "  $ \\frac{d}{dx}[o(i(x))] = o'(i(x)) \\cdot i'(x) $\n",
    "\n"
   ]
  }
 ],
 "metadata": {
  "kernelspec": {
   "display_name": "base",
   "language": "python",
   "name": "python3"
  },
  "language_info": {
   "codemirror_mode": {
    "name": "ipython",
    "version": 3
   },
   "file_extension": ".py",
   "mimetype": "text/x-python",
   "name": "python",
   "nbconvert_exporter": "python",
   "pygments_lexer": "ipython3",
   "version": "3.11.9"
  }
 },
 "nbformat": 4,
 "nbformat_minor": 2
}
